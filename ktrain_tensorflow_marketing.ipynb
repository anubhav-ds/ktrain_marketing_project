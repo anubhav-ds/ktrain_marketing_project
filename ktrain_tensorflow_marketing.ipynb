{
 "cells": [
  {
   "cell_type": "markdown",
   "metadata": {
    "id": "n0BZubdA_0oV"
   },
   "source": [
    "# Introduction\n",
    "\n",
    "Theragun produces various kind of Health and Wellness products and they have hired us to help in their recent Online marketing campaign. They are interested in placing their ads via Google Adsense and other platforms specifically on the Articles cenetered around Health and related Wellness topics. Their goal is to identify as many such articles as possible.\n",
    "\n",
    "To fulfil this need we have created a Deep Learning Model based on pretrained DistilBERT model availaible via K-Train wrapper in Tensorflow.\n",
    "\n",
    "<b> Note: While the course required the work in Google Colab, due to Colab restrictions GPU was not availaible for more than 2 days in free mode as even the checking of learning rate exhausted the free quota, and since dedicated Nvidia GPUs were availaible model was trained on an 8 GB RTX 4060 Mobile GPU with 135 Watt Power limit. This fact should be considered if work here is reproduced as it will effect the time taken for all the process and most importantly smaller batch sizes to run on 8 GB VRAM. <b>"
   ]
  },
  {
   "cell_type": "markdown",
   "metadata": {
    "id": "hGSUArJ_ZYN3"
   },
   "source": [
    "## Imports"
   ]
  },
  {
   "cell_type": "markdown",
   "metadata": {
    "id": "Y0MIZDrs0Ddx"
   },
   "source": [
    "We're going to be using Google's Tensorflow package:\n",
    "https://www.tensorflow.org/tutorials\n",
    "\n",
    "We're using an API wrapper for Tensorflow called ktrain. It's absolutely fabulous because it really abstracts the whole deep learning process into an easy workflow by abstracting a lot of complext Language modelling elements:\n",
    "https://github.com/amaiya/ktrain"
   ]
  },
  {
   "cell_type": "code",
   "execution_count": 1,
   "metadata": {
    "colab": {
     "base_uri": "https://localhost:8080/"
    },
    "id": "16hoKG5dbeWs",
    "outputId": "c6d67718-5ba1-4d78-8c82-de810ed4def5"
   },
   "outputs": [
    {
     "name": "stderr",
     "output_type": "stream",
     "text": [
      "2024-03-04 18:00:09.285556: I tensorflow/core/util/port.cc:111] oneDNN custom operations are on. You may see slightly different numerical results due to floating-point round-off errors from different computation orders. To turn them off, set the environment variable `TF_ENABLE_ONEDNN_OPTS=0`.\n",
      "2024-03-04 18:00:09.308377: E tensorflow/compiler/xla/stream_executor/cuda/cuda_dnn.cc:9342] Unable to register cuDNN factory: Attempting to register factory for plugin cuDNN when one has already been registered\n",
      "2024-03-04 18:00:09.308408: E tensorflow/compiler/xla/stream_executor/cuda/cuda_fft.cc:609] Unable to register cuFFT factory: Attempting to register factory for plugin cuFFT when one has already been registered\n",
      "2024-03-04 18:00:09.308422: E tensorflow/compiler/xla/stream_executor/cuda/cuda_blas.cc:1518] Unable to register cuBLAS factory: Attempting to register factory for plugin cuBLAS when one has already been registered\n",
      "2024-03-04 18:00:09.313351: I tensorflow/core/platform/cpu_feature_guard.cc:182] This TensorFlow binary is optimized to use available CPU instructions in performance-critical operations.\n",
      "To enable the following instructions: AVX2 AVX512F AVX512_VNNI AVX512_BF16 FMA, in other operations, rebuild TensorFlow with the appropriate compiler flags.\n",
      "2024-03-04 18:00:09.884031: W tensorflow/compiler/tf2tensorrt/utils/py_utils.cc:38] TF-TRT Warning: Could not find TensorRT\n"
     ]
    },
    {
     "name": "stdout",
     "output_type": "stream",
     "text": [
      "2.14.0\n"
     ]
    },
    {
     "name": "stderr",
     "output_type": "stream",
     "text": [
      "/home/anubh/miniconda3/lib/python3.11/site-packages/tqdm/auto.py:21: TqdmWarning: IProgress not found. Please update jupyter and ipywidgets. See https://ipywidgets.readthedocs.io/en/stable/user_install.html\n",
      "  from .autonotebook import tqdm as notebook_tqdm\n"
     ]
    }
   ],
   "source": [
    "import os\n",
    "from sklearn.model_selection import train_test_split\n",
    "import tensorflow as tf\n",
    "print(tf.__version__)\n",
    "try:\n",
    "  import ktrain\n",
    "except:\n",
    "  !pip install ktrain\n",
    "  os.kill(os.getpid(), 9)\n",
    "from ktrain import text\n",
    "from ktrain.text import texts_from_df\n",
    "import time\n",
    "import pandas as pd\n",
    "from keras.preprocessing.text import Tokenizer\n",
    "import pickle\n",
    "import json\n",
    "import glob\n",
    "import json\n",
    "import numpy as np\n",
    "import matplotlib.pyplot as plt"
   ]
  },
  {
   "cell_type": "code",
   "execution_count": 2,
   "metadata": {
    "colab": {
     "base_uri": "https://localhost:8080/"
    },
    "id": "s1QYEoYq4Cez",
    "outputId": "4479a870-bbdb-4db7-d292-2f85e6c8c2f9"
   },
   "outputs": [
    {
     "name": "stdout",
     "output_type": "stream",
     "text": [
      "Mounted at /content/drive\n"
     ]
    }
   ],
   "source": [
    "from google.colab import drive #necessary code if data is stored in Google Drive\n",
    "drive.mount('/content/drive')"
   ]
  },
  {
   "cell_type": "markdown",
   "metadata": {
    "id": "E3XGSpfy0xPv"
   },
   "source": [
    "## It is recommended to switch to GPU beyond this point if running on Colab\n",
    "Runtime > Change Runtime Type > GPU"
   ]
  },
  {
   "cell_type": "markdown",
   "metadata": {
    "id": "idE4-ojt0-dH"
   },
   "source": [
    "Let's download our data. For this project, we're going to be using data from Kaggle.\n",
    "\n",
    "https://www.kaggle.com/rmisra/news-category-dataset/version/2\n",
    "\n",
    "However the course provided Json file instead of Jsonl availaible in Kaggle for easier access to the data. Same can be downloaded via course or at the sharable drive link given below, until it is active.\n",
    "\n",
    "https://drive.google.com/file/d/1eNX_srjI8BC5y7GDQAxwG_-NK8hNvRjV/view?usp=drive_link"
   ]
  },
  {
   "cell_type": "markdown",
   "metadata": {
    "id": "mo-Wfx9R7zfB"
   },
   "source": [
    "Following code was used to transform the jsonl file. It may take time but reader can try it themselves.\n",
    "\n",
    "```\n",
    "json_file = open('News_Category_Dataset_v2.json', 'r')\n",
    "columns = ['category', 'headline', 'authors', 'link', 'short_description', 'date']\n",
    "\n",
    "training_data = pd.DataFrame(columns = columns)\n",
    "\n",
    "for i, aline in enumerate(json_file):\n",
    "  parsed_json = json.loads(aline)\n",
    "  for acolumn in columns:\n",
    "    training_data = training_data.append(pd.Series(name=i, dtype='float64'))\n",
    "    training_data[acolumn][i] = parsed_json[acolumn]\n",
    "  if i % 1000 == 0:\n",
    "      print(i)\n",
    "```\n",
    "\n"
   ]
  },
  {
   "cell_type": "markdown",
   "metadata": {
    "id": "3bxONoEp_hsO"
   },
   "source": [
    "Note: Directory file paths need to be adjusted if this notebook is being run locally or on Colab depending on the file location."
   ]
  },
  {
   "cell_type": "code",
   "execution_count": 5,
   "metadata": {
    "id": "a7mhLblG6saq"
   },
   "outputs": [],
   "source": [
    "reviews = pd.read_json('news_category_training_data.json') #dataset slightly renamed to have a common naming scheme"
   ]
  },
  {
   "cell_type": "markdown",
   "metadata": {
    "id": "x-NXTV--Y3ue"
   },
   "source": [
    "## Preparing the Data"
   ]
  },
  {
   "cell_type": "code",
   "execution_count": 6,
   "metadata": {
    "colab": {
     "base_uri": "https://localhost:8080/",
     "height": 692
    },
    "id": "quwyVcHh6P1s",
    "outputId": "ab00ca24-5520-4135-9d41-fa45b237725c"
   },
   "outputs": [
    {
     "data": {
      "text/html": [
       "<div>\n",
       "<style scoped>\n",
       "    .dataframe tbody tr th:only-of-type {\n",
       "        vertical-align: middle;\n",
       "    }\n",
       "\n",
       "    .dataframe tbody tr th {\n",
       "        vertical-align: top;\n",
       "    }\n",
       "\n",
       "    .dataframe thead th {\n",
       "        text-align: right;\n",
       "    }\n",
       "</style>\n",
       "<table border=\"1\" class=\"dataframe\">\n",
       "  <thead>\n",
       "    <tr style=\"text-align: right;\">\n",
       "      <th></th>\n",
       "      <th>category</th>\n",
       "      <th>headline</th>\n",
       "      <th>authors</th>\n",
       "      <th>link</th>\n",
       "      <th>short_description</th>\n",
       "      <th>date</th>\n",
       "    </tr>\n",
       "  </thead>\n",
       "  <tbody>\n",
       "    <tr>\n",
       "      <th>0</th>\n",
       "      <td>CRIME</td>\n",
       "      <td>There Were 2 Mass Shootings In Texas Last Week...</td>\n",
       "      <td>Melissa Jeltsen</td>\n",
       "      <td>https://www.huffingtonpost.com/entry/texas-ama...</td>\n",
       "      <td>She left her husband. He killed their children...</td>\n",
       "      <td>2018-05-26</td>\n",
       "    </tr>\n",
       "    <tr>\n",
       "      <th>1</th>\n",
       "      <td>ENTERTAINMENT</td>\n",
       "      <td>Will Smith Joins Diplo And Nicky Jam For The 2...</td>\n",
       "      <td>Andy McDonald</td>\n",
       "      <td>https://www.huffingtonpost.com/entry/will-smit...</td>\n",
       "      <td>Of course it has a song.</td>\n",
       "      <td>2018-05-26</td>\n",
       "    </tr>\n",
       "    <tr>\n",
       "      <th>2</th>\n",
       "      <td>ENTERTAINMENT</td>\n",
       "      <td>Hugh Grant Marries For The First Time At Age 57</td>\n",
       "      <td>Ron Dicker</td>\n",
       "      <td>https://www.huffingtonpost.com/entry/hugh-gran...</td>\n",
       "      <td>The actor and his longtime girlfriend Anna Ebe...</td>\n",
       "      <td>2018-05-26</td>\n",
       "    </tr>\n",
       "    <tr>\n",
       "      <th>3</th>\n",
       "      <td>ENTERTAINMENT</td>\n",
       "      <td>Jim Carrey Blasts 'Castrato' Adam Schiff And D...</td>\n",
       "      <td>Ron Dicker</td>\n",
       "      <td>https://www.huffingtonpost.com/entry/jim-carre...</td>\n",
       "      <td>The actor gives Dems an ass-kicking for not fi...</td>\n",
       "      <td>2018-05-26</td>\n",
       "    </tr>\n",
       "    <tr>\n",
       "      <th>4</th>\n",
       "      <td>ENTERTAINMENT</td>\n",
       "      <td>Julianna Margulies Uses Donald Trump Poop Bags...</td>\n",
       "      <td>Ron Dicker</td>\n",
       "      <td>https://www.huffingtonpost.com/entry/julianna-...</td>\n",
       "      <td>The \"Dietland\" actress said using the bags is ...</td>\n",
       "      <td>2018-05-26</td>\n",
       "    </tr>\n",
       "  </tbody>\n",
       "</table>\n",
       "</div>"
      ],
      "text/plain": [
       "        category                                           headline  \\\n",
       "0          CRIME  There Were 2 Mass Shootings In Texas Last Week...   \n",
       "1  ENTERTAINMENT  Will Smith Joins Diplo And Nicky Jam For The 2...   \n",
       "2  ENTERTAINMENT    Hugh Grant Marries For The First Time At Age 57   \n",
       "3  ENTERTAINMENT  Jim Carrey Blasts 'Castrato' Adam Schiff And D...   \n",
       "4  ENTERTAINMENT  Julianna Margulies Uses Donald Trump Poop Bags...   \n",
       "\n",
       "           authors                                               link  \\\n",
       "0  Melissa Jeltsen  https://www.huffingtonpost.com/entry/texas-ama...   \n",
       "1    Andy McDonald  https://www.huffingtonpost.com/entry/will-smit...   \n",
       "2       Ron Dicker  https://www.huffingtonpost.com/entry/hugh-gran...   \n",
       "3       Ron Dicker  https://www.huffingtonpost.com/entry/jim-carre...   \n",
       "4       Ron Dicker  https://www.huffingtonpost.com/entry/julianna-...   \n",
       "\n",
       "                                   short_description       date  \n",
       "0  She left her husband. He killed their children... 2018-05-26  \n",
       "1                           Of course it has a song. 2018-05-26  \n",
       "2  The actor and his longtime girlfriend Anna Ebe... 2018-05-26  \n",
       "3  The actor gives Dems an ass-kicking for not fi... 2018-05-26  \n",
       "4  The \"Dietland\" actress said using the bags is ... 2018-05-26  "
      ]
     },
     "execution_count": 6,
     "metadata": {},
     "output_type": "execute_result"
    }
   ],
   "source": [
    "reviews.head()"
   ]
  },
  {
   "cell_type": "code",
   "execution_count": 7,
   "metadata": {
    "colab": {
     "base_uri": "https://localhost:8080/"
    },
    "id": "aNU8UH706jCj",
    "outputId": "e92715e8-384e-4d2c-9ad3-7fc322ddc108"
   },
   "outputs": [
    {
     "data": {
      "text/plain": [
       "category\n",
       "POLITICS          0.163000\n",
       "WELLNESS          0.088756\n",
       "ENTERTAINMENT     0.079949\n",
       "TRAVEL            0.049225\n",
       "STYLE & BEAUTY    0.048040\n",
       "PARENTING         0.043201\n",
       "HEALTHY LIVING    0.033328\n",
       "QUEER VOICES      0.031436\n",
       "FOOD & DRINK      0.030998\n",
       "BUSINESS          0.029559\n",
       "COMEDY            0.025765\n",
       "SPORTS            0.024316\n",
       "BLACK VOICES      0.022544\n",
       "HOME & LIVING     0.020886\n",
       "PARENTS           0.019691\n",
       "THE WORLDPOST     0.018242\n",
       "WEDDINGS          0.018177\n",
       "WOMEN             0.017376\n",
       "IMPACT            0.017222\n",
       "DIVORCE           0.017057\n",
       "CRIME             0.016953\n",
       "MEDIA             0.014015\n",
       "WEIRD NEWS        0.013293\n",
       "GREEN             0.013054\n",
       "WORLDPOST         0.012840\n",
       "RELIGION          0.012726\n",
       "STYLE             0.011222\n",
       "SCIENCE           0.010844\n",
       "WORLD NEWS        0.010839\n",
       "TASTE             0.010435\n",
       "TECH              0.010366\n",
       "MONEY             0.008499\n",
       "ARTS              0.007513\n",
       "FIFTY             0.006975\n",
       "GOOD NEWS         0.006960\n",
       "ARTS & CULTURE    0.006667\n",
       "ENVIRONMENT       0.006587\n",
       "COLLEGE           0.005696\n",
       "LATINO VOICES     0.005621\n",
       "CULTURE & ARTS    0.005128\n",
       "EDUCATION         0.004999\n",
       "Name: proportion, dtype: float64"
      ]
     },
     "execution_count": 7,
     "metadata": {},
     "output_type": "execute_result"
    }
   ],
   "source": [
    "reviews['category'].value_counts(normalize = True)"
   ]
  },
  {
   "cell_type": "code",
   "execution_count": 8,
   "metadata": {
    "id": "j2M43ZJEBWIv"
   },
   "outputs": [
    {
     "data": {
      "text/plain": [
       "(200853, 6)"
      ]
     },
     "execution_count": 8,
     "metadata": {},
     "output_type": "execute_result"
    }
   ],
   "source": [
    "reviews.shape"
   ]
  },
  {
   "cell_type": "markdown",
   "metadata": {
    "id": "dNMJoE-NBR6a"
   },
   "source": [
    "We have 200,853 articles in total with 24,521 articles about Wellness or Healthy Living categories. While they are our target articles, we have highly unbalanced dataset with around 12% articles contianing our target categories.\n",
    "\n",
    "To solve this issue we will create a training dataset which has equal number of articles for both Healthy/Wellness and Not Healthy/Wellness."
   ]
  },
  {
   "cell_type": "markdown",
   "metadata": {
    "id": "fZ7xO9Aa6iyU"
   },
   "source": [
    "Most machine learning tools in Python accept one field/column/string. So we have to merge our two text column. Let's separate it with a space."
   ]
  },
  {
   "cell_type": "code",
   "execution_count": 9,
   "metadata": {
    "id": "F6VLEzaSuDyx"
   },
   "outputs": [],
   "source": [
    "reviews['combined_text'] = reviews['headline'] + ' ' + reviews['short_description']"
   ]
  },
  {
   "cell_type": "markdown",
   "metadata": {
    "id": "YKvESWUF5f4Y"
   },
   "source": [
    "Since we are interested in 2 categories we need a new Target Variable which will have 1 when either of the 2 categories, that is Healthy Living and Wellness, appear and 0 otherwise."
   ]
  },
  {
   "cell_type": "code",
   "execution_count": 10,
   "metadata": {
    "colab": {
     "base_uri": "https://localhost:8080/",
     "height": 1000
    },
    "id": "Bz1PoZOPriCk",
    "outputId": "b848e455-f9f1-4773-f5bc-871b9c7b844e"
   },
   "outputs": [
    {
     "data": {
      "text/html": [
       "<div>\n",
       "<style scoped>\n",
       "    .dataframe tbody tr th:only-of-type {\n",
       "        vertical-align: middle;\n",
       "    }\n",
       "\n",
       "    .dataframe tbody tr th {\n",
       "        vertical-align: top;\n",
       "    }\n",
       "\n",
       "    .dataframe thead th {\n",
       "        text-align: right;\n",
       "    }\n",
       "</style>\n",
       "<table border=\"1\" class=\"dataframe\">\n",
       "  <thead>\n",
       "    <tr style=\"text-align: right;\">\n",
       "      <th></th>\n",
       "      <th>category</th>\n",
       "      <th>headline</th>\n",
       "      <th>authors</th>\n",
       "      <th>link</th>\n",
       "      <th>short_description</th>\n",
       "      <th>date</th>\n",
       "      <th>combined_text</th>\n",
       "    </tr>\n",
       "  </thead>\n",
       "  <tbody>\n",
       "    <tr>\n",
       "      <th>7578</th>\n",
       "      <td>HEALTHY LIVING</td>\n",
       "      <td>To The People Who Say ‘I’m Tired’ When Someone...</td>\n",
       "      <td>The Mighty, ContributorWe face disability, dis...</td>\n",
       "      <td>https://www.huffingtonpost.com/entry/to-the-pe...</td>\n",
       "      <td>When you feel like this, it’s important to kno...</td>\n",
       "      <td>2018-01-16</td>\n",
       "      <td>To The People Who Say ‘I’m Tired’ When Someone...</td>\n",
       "    </tr>\n",
       "    <tr>\n",
       "      <th>7693</th>\n",
       "      <td>HEALTHY LIVING</td>\n",
       "      <td>Eating Shake Shack Made Me Feel Healthier Than...</td>\n",
       "      <td>Colleen Werner, ContributorCampus Editor-at-Large</td>\n",
       "      <td>https://www.huffingtonpost.com/entry/eating-sh...</td>\n",
       "      <td>I can vividly remember the first time I felt f...</td>\n",
       "      <td>2018-01-12</td>\n",
       "      <td>Eating Shake Shack Made Me Feel Healthier Than...</td>\n",
       "    </tr>\n",
       "    <tr>\n",
       "      <th>7747</th>\n",
       "      <td>HEALTHY LIVING</td>\n",
       "      <td>How To Stay Updated On The News Without Losing...</td>\n",
       "      <td>Lindsay Holmes</td>\n",
       "      <td>https://www.huffingtonpost.com/entry/anxiety-f...</td>\n",
       "      <td>Because it's only becoming more of a struggle.</td>\n",
       "      <td>2018-01-12</td>\n",
       "      <td>How To Stay Updated On The News Without Losing...</td>\n",
       "    </tr>\n",
       "    <tr>\n",
       "      <th>7927</th>\n",
       "      <td>HEALTHY LIVING</td>\n",
       "      <td>27 Perfect Tweets About Whole30 That Will Make...</td>\n",
       "      <td>Lindsay Holmes</td>\n",
       "      <td>https://www.huffingtonpost.com/entry/tweets-ab...</td>\n",
       "      <td>\"The only Whole30 I want to participate in is ...</td>\n",
       "      <td>2018-01-10</td>\n",
       "      <td>27 Perfect Tweets About Whole30 That Will Make...</td>\n",
       "    </tr>\n",
       "    <tr>\n",
       "      <th>7934</th>\n",
       "      <td>HEALTHY LIVING</td>\n",
       "      <td>The Real Reason Your Hands Are Always Cold</td>\n",
       "      <td>Refinery29, ContributorThe #1 new-media brand ...</td>\n",
       "      <td>https://www.huffingtonpost.com/entry/the-real-...</td>\n",
       "      <td>Essentially, your hands are kept warm thanks t...</td>\n",
       "      <td>2018-01-10</td>\n",
       "      <td>The Real Reason Your Hands Are Always Cold Ess...</td>\n",
       "    </tr>\n",
       "    <tr>\n",
       "      <th>...</th>\n",
       "      <td>...</td>\n",
       "      <td>...</td>\n",
       "      <td>...</td>\n",
       "      <td>...</td>\n",
       "      <td>...</td>\n",
       "      <td>...</td>\n",
       "      <td>...</td>\n",
       "    </tr>\n",
       "    <tr>\n",
       "      <th>124913</th>\n",
       "      <td>HEALTHY LIVING</td>\n",
       "      <td>Why You Need Both a 'Bouncer' and a 'Bartender...</td>\n",
       "      <td>Elizabeth Grace Saunders, ContributorFounder, ...</td>\n",
       "      <td>https://www.huffingtonpost.com/entry/happy-hea...</td>\n",
       "      <td>Instead of judging whether you made the right ...</td>\n",
       "      <td>2014-04-18</td>\n",
       "      <td>Why You Need Both a 'Bouncer' and a 'Bartender...</td>\n",
       "    </tr>\n",
       "    <tr>\n",
       "      <th>124914</th>\n",
       "      <td>HEALTHY LIVING</td>\n",
       "      <td>How Video Games Can Improve Dialogue on Mental...</td>\n",
       "      <td>Mona Shattell, Contributornurse researcher</td>\n",
       "      <td>https://www.huffingtonpost.com/entry/mental-il...</td>\n",
       "      <td>While there are strong arguments for the games...</td>\n",
       "      <td>2014-04-18</td>\n",
       "      <td>How Video Games Can Improve Dialogue on Mental...</td>\n",
       "    </tr>\n",
       "    <tr>\n",
       "      <th>124925</th>\n",
       "      <td>HEALTHY LIVING</td>\n",
       "      <td>Wake-Up Calls Inspired My Change From Overdriv...</td>\n",
       "      <td>Jane Shure, ContributorLeadership Coach, Psych...</td>\n",
       "      <td>https://www.huffingtonpost.com/entry/wake-up-c...</td>\n",
       "      <td>My wake-up call marching orders were clear: No...</td>\n",
       "      <td>2014-04-18</td>\n",
       "      <td>Wake-Up Calls Inspired My Change From Overdriv...</td>\n",
       "    </tr>\n",
       "    <tr>\n",
       "      <th>124950</th>\n",
       "      <td>HEALTHY LIVING</td>\n",
       "      <td>Loving a Narcissist Without Losing Yourself</td>\n",
       "      <td>Nancy Colier, ContributorPsychotherapist, inte...</td>\n",
       "      <td>https://www.huffingtonpost.com/entry/narcissis...</td>\n",
       "      <td>It is very difficult for some people to see an...</td>\n",
       "      <td>2014-04-18</td>\n",
       "      <td>Loving a Narcissist Without Losing Yourself It...</td>\n",
       "    </tr>\n",
       "    <tr>\n",
       "      <th>124988</th>\n",
       "      <td>HEALTHY LIVING</td>\n",
       "      <td>Reasons Not to Be Happy</td>\n",
       "      <td>Mindy Utay, Contributor\"Calming Life's Conflicts\"</td>\n",
       "      <td>https://www.huffingtonpost.com/entry/happiness...</td>\n",
       "      <td>Our thoughts and feelings are powerful, but ma...</td>\n",
       "      <td>2014-04-18</td>\n",
       "      <td>Reasons Not to Be Happy Our thoughts and feeli...</td>\n",
       "    </tr>\n",
       "  </tbody>\n",
       "</table>\n",
       "<p>6694 rows × 7 columns</p>\n",
       "</div>"
      ],
      "text/plain": [
       "              category                                           headline  \\\n",
       "7578    HEALTHY LIVING  To The People Who Say ‘I’m Tired’ When Someone...   \n",
       "7693    HEALTHY LIVING  Eating Shake Shack Made Me Feel Healthier Than...   \n",
       "7747    HEALTHY LIVING  How To Stay Updated On The News Without Losing...   \n",
       "7927    HEALTHY LIVING  27 Perfect Tweets About Whole30 That Will Make...   \n",
       "7934    HEALTHY LIVING         The Real Reason Your Hands Are Always Cold   \n",
       "...                ...                                                ...   \n",
       "124913  HEALTHY LIVING  Why You Need Both a 'Bouncer' and a 'Bartender...   \n",
       "124914  HEALTHY LIVING  How Video Games Can Improve Dialogue on Mental...   \n",
       "124925  HEALTHY LIVING  Wake-Up Calls Inspired My Change From Overdriv...   \n",
       "124950  HEALTHY LIVING        Loving a Narcissist Without Losing Yourself   \n",
       "124988  HEALTHY LIVING                            Reasons Not to Be Happy   \n",
       "\n",
       "                                                  authors  \\\n",
       "7578    The Mighty, ContributorWe face disability, dis...   \n",
       "7693    Colleen Werner, ContributorCampus Editor-at-Large   \n",
       "7747                                       Lindsay Holmes   \n",
       "7927                                       Lindsay Holmes   \n",
       "7934    Refinery29, ContributorThe #1 new-media brand ...   \n",
       "...                                                   ...   \n",
       "124913  Elizabeth Grace Saunders, ContributorFounder, ...   \n",
       "124914         Mona Shattell, Contributornurse researcher   \n",
       "124925  Jane Shure, ContributorLeadership Coach, Psych...   \n",
       "124950  Nancy Colier, ContributorPsychotherapist, inte...   \n",
       "124988  Mindy Utay, Contributor\"Calming Life's Conflicts\"   \n",
       "\n",
       "                                                     link  \\\n",
       "7578    https://www.huffingtonpost.com/entry/to-the-pe...   \n",
       "7693    https://www.huffingtonpost.com/entry/eating-sh...   \n",
       "7747    https://www.huffingtonpost.com/entry/anxiety-f...   \n",
       "7927    https://www.huffingtonpost.com/entry/tweets-ab...   \n",
       "7934    https://www.huffingtonpost.com/entry/the-real-...   \n",
       "...                                                   ...   \n",
       "124913  https://www.huffingtonpost.com/entry/happy-hea...   \n",
       "124914  https://www.huffingtonpost.com/entry/mental-il...   \n",
       "124925  https://www.huffingtonpost.com/entry/wake-up-c...   \n",
       "124950  https://www.huffingtonpost.com/entry/narcissis...   \n",
       "124988  https://www.huffingtonpost.com/entry/happiness...   \n",
       "\n",
       "                                        short_description       date  \\\n",
       "7578    When you feel like this, it’s important to kno... 2018-01-16   \n",
       "7693    I can vividly remember the first time I felt f... 2018-01-12   \n",
       "7747       Because it's only becoming more of a struggle. 2018-01-12   \n",
       "7927    \"The only Whole30 I want to participate in is ... 2018-01-10   \n",
       "7934    Essentially, your hands are kept warm thanks t... 2018-01-10   \n",
       "...                                                   ...        ...   \n",
       "124913  Instead of judging whether you made the right ... 2014-04-18   \n",
       "124914  While there are strong arguments for the games... 2014-04-18   \n",
       "124925  My wake-up call marching orders were clear: No... 2014-04-18   \n",
       "124950  It is very difficult for some people to see an... 2014-04-18   \n",
       "124988  Our thoughts and feelings are powerful, but ma... 2014-04-18   \n",
       "\n",
       "                                            combined_text  \n",
       "7578    To The People Who Say ‘I’m Tired’ When Someone...  \n",
       "7693    Eating Shake Shack Made Me Feel Healthier Than...  \n",
       "7747    How To Stay Updated On The News Without Losing...  \n",
       "7927    27 Perfect Tweets About Whole30 That Will Make...  \n",
       "7934    The Real Reason Your Hands Are Always Cold Ess...  \n",
       "...                                                   ...  \n",
       "124913  Why You Need Both a 'Bouncer' and a 'Bartender...  \n",
       "124914  How Video Games Can Improve Dialogue on Mental...  \n",
       "124925  Wake-Up Calls Inspired My Change From Overdriv...  \n",
       "124950  Loving a Narcissist Without Losing Yourself It...  \n",
       "124988  Reasons Not to Be Happy Our thoughts and feeli...  \n",
       "\n",
       "[6694 rows x 7 columns]"
      ]
     },
     "execution_count": 10,
     "metadata": {},
     "output_type": "execute_result"
    }
   ],
   "source": [
    "reviews[reviews['category'].str.contains(\"HEALTHY LIVING\" or \"WELLNESS\")]"
   ]
  },
  {
   "cell_type": "code",
   "execution_count": 11,
   "metadata": {
    "id": "ccC1GR85suZJ"
   },
   "outputs": [],
   "source": [
    "reviews['healthy/wellness'] = np.where((reviews['category'] == 'HEALTHY LIVING') | (reviews['category'] == 'WELLNESS'), 1, 0)"
   ]
  },
  {
   "cell_type": "code",
   "execution_count": 12,
   "metadata": {
    "colab": {
     "base_uri": "https://localhost:8080/"
    },
    "id": "8jV8CeKS7gEL",
    "outputId": "9605bb89-67a7-43e1-bcdc-0a4ea2bd6900"
   },
   "outputs": [
    {
     "data": {
      "text/plain": [
       "24521"
      ]
     },
     "execution_count": 12,
     "metadata": {},
     "output_type": "execute_result"
    }
   ],
   "source": [
    "((reviews['category'] == 'HEALTHY LIVING') | (reviews['category'] == 'WELLNESS')).sum()"
   ]
  },
  {
   "cell_type": "code",
   "execution_count": 13,
   "metadata": {
    "colab": {
     "base_uri": "https://localhost:8080/"
    },
    "id": "aexMvzhKtyDN",
    "outputId": "3dbd6dff-a647-4c1c-e8ba-0573198799b6"
   },
   "outputs": [
    {
     "data": {
      "text/plain": [
       "count    200853.000000\n",
       "mean          0.122084\n",
       "std           0.327384\n",
       "min           0.000000\n",
       "25%           0.000000\n",
       "50%           0.000000\n",
       "75%           0.000000\n",
       "max           1.000000\n",
       "Name: healthy/wellness, dtype: float64"
      ]
     },
     "execution_count": 13,
     "metadata": {},
     "output_type": "execute_result"
    }
   ],
   "source": [
    "reviews['healthy/wellness'].describe()"
   ]
  },
  {
   "cell_type": "code",
   "execution_count": 24,
   "metadata": {},
   "outputs": [
    {
     "data": {
      "text/plain": [
       "(array([176332.,      0.,      0.,      0.,      0.,      0.,      0.,\n",
       "             0.,      0.,  24521.]),\n",
       " array([0. , 0.1, 0.2, 0.3, 0.4, 0.5, 0.6, 0.7, 0.8, 0.9, 1. ]),\n",
       " <BarContainer object of 10 artists>)"
      ]
     },
     "execution_count": 24,
     "metadata": {},
     "output_type": "execute_result"
    },
    {
     "data": {
      "image/png": "[encoded data removed]",
      "text/plain": [
       "<Figure size 640x480 with 1 Axes>"
      ]
     },
     "metadata": {},
     "output_type": "display_data"
    }
   ],
   "source": [
    "plt.hist(reviews['healthy/wellness'])"
   ]
  },
  {
   "cell_type": "markdown",
   "metadata": {
    "id": "sHXxsWHs6MUQ"
   },
   "source": [
    "A basic plot showing the difference in positive and negative examples in this unbalanced dataset."
   ]
  },
  {
   "cell_type": "code",
   "execution_count": 14,
   "metadata": {
    "id": "xfLYND3fam_x"
   },
   "outputs": [],
   "source": [
    "sample_amount = len(reviews[reviews[\"healthy/wellness\"] == 1])\n",
    "\n",
    "healthy = reviews[reviews['healthy/wellness'] == 1]\n",
    "not_healthy = reviews[reviews['healthy/wellness'] == 0].sample(n=sample_amount, random_state = 10)"
   ]
  },
  {
   "cell_type": "code",
   "execution_count": 15,
   "metadata": {
    "id": "B48IOQpGdsp1"
   },
   "outputs": [],
   "source": [
    "review_sample = pd.concat([healthy,not_healthy])"
   ]
  },
  {
   "cell_type": "code",
   "execution_count": 16,
   "metadata": {
    "colab": {
     "base_uri": "https://localhost:8080/",
     "height": 300
    },
    "id": "CHr4h7FYed_Z",
    "outputId": "ab820239-ac27-49db-9f31-3184b0190968"
   },
   "outputs": [
    {
     "data": {
      "text/html": [
       "<div>\n",
       "<style scoped>\n",
       "    .dataframe tbody tr th:only-of-type {\n",
       "        vertical-align: middle;\n",
       "    }\n",
       "\n",
       "    .dataframe tbody tr th {\n",
       "        vertical-align: top;\n",
       "    }\n",
       "\n",
       "    .dataframe thead th {\n",
       "        text-align: right;\n",
       "    }\n",
       "</style>\n",
       "<table border=\"1\" class=\"dataframe\">\n",
       "  <thead>\n",
       "    <tr style=\"text-align: right;\">\n",
       "      <th></th>\n",
       "      <th>date</th>\n",
       "      <th>healthy/wellness</th>\n",
       "    </tr>\n",
       "  </thead>\n",
       "  <tbody>\n",
       "    <tr>\n",
       "      <th>count</th>\n",
       "      <td>49042</td>\n",
       "      <td>49042.000000</td>\n",
       "    </tr>\n",
       "    <tr>\n",
       "      <th>mean</th>\n",
       "      <td>2014-08-06 01:59:14.487990016</td>\n",
       "      <td>0.500000</td>\n",
       "    </tr>\n",
       "    <tr>\n",
       "      <th>min</th>\n",
       "      <td>2012-01-28 00:00:00</td>\n",
       "      <td>0.000000</td>\n",
       "    </tr>\n",
       "    <tr>\n",
       "      <th>25%</th>\n",
       "      <td>2013-02-24 00:00:00</td>\n",
       "      <td>0.000000</td>\n",
       "    </tr>\n",
       "    <tr>\n",
       "      <th>50%</th>\n",
       "      <td>2014-03-12 00:00:00</td>\n",
       "      <td>0.500000</td>\n",
       "    </tr>\n",
       "    <tr>\n",
       "      <th>75%</th>\n",
       "      <td>2015-12-19 00:00:00</td>\n",
       "      <td>1.000000</td>\n",
       "    </tr>\n",
       "    <tr>\n",
       "      <th>max</th>\n",
       "      <td>2018-05-26 00:00:00</td>\n",
       "      <td>1.000000</td>\n",
       "    </tr>\n",
       "    <tr>\n",
       "      <th>std</th>\n",
       "      <td>NaN</td>\n",
       "      <td>0.500005</td>\n",
       "    </tr>\n",
       "  </tbody>\n",
       "</table>\n",
       "</div>"
      ],
      "text/plain": [
       "                                date  healthy/wellness\n",
       "count                          49042      49042.000000\n",
       "mean   2014-08-06 01:59:14.487990016          0.500000\n",
       "min              2012-01-28 00:00:00          0.000000\n",
       "25%              2013-02-24 00:00:00          0.000000\n",
       "50%              2014-03-12 00:00:00          0.500000\n",
       "75%              2015-12-19 00:00:00          1.000000\n",
       "max              2018-05-26 00:00:00          1.000000\n",
       "std                              NaN          0.500005"
      ]
     },
     "execution_count": 16,
     "metadata": {},
     "output_type": "execute_result"
    }
   ],
   "source": [
    "review_sample.describe()"
   ]
  },
  {
   "cell_type": "markdown",
   "metadata": {
    "id": "0DoFeOx8eniJ"
   },
   "source": [
    "A mean of 0.5 means these datasets are now perfectly balanced. And the N = 2*24521!"
   ]
  },
  {
   "cell_type": "markdown",
   "metadata": {
    "id": "Cljkg1U5aZ3_"
   },
   "source": [
    "## Test, Tune and Save Models"
   ]
  },
  {
   "cell_type": "code",
   "execution_count": 17,
   "metadata": {
    "id": "mUuRH7iYqPSX"
   },
   "outputs": [],
   "source": [
    "target_names = ['NOT HEALTHY LIVING/WELLNESS','HEALTHY LIVING/WELLNESS']"
   ]
  },
  {
   "cell_type": "code",
   "execution_count": 18,
   "metadata": {
    "id": "uK-L4-M7pLno"
   },
   "outputs": [
    {
     "name": "stderr",
     "output_type": "stream",
     "text": [
      "2024-03-04 18:01:35.256739: I tensorflow/compiler/xla/stream_executor/cuda/cuda_gpu_executor.cc:880] could not open file to read NUMA node: /sys/bus/pci/devices/0000:01:00.0/numa_node\n",
      "Your kernel may have been built without NUMA support.\n",
      "2024-03-04 18:01:35.357004: I tensorflow/compiler/xla/stream_executor/cuda/cuda_gpu_executor.cc:880] could not open file to read NUMA node: /sys/bus/pci/devices/0000:01:00.0/numa_node\n",
      "Your kernel may have been built without NUMA support.\n",
      "2024-03-04 18:01:35.357056: I tensorflow/compiler/xla/stream_executor/cuda/cuda_gpu_executor.cc:880] could not open file to read NUMA node: /sys/bus/pci/devices/0000:01:00.0/numa_node\n",
      "Your kernel may have been built without NUMA support.\n",
      "2024-03-04 18:01:35.360196: I tensorflow/compiler/xla/stream_executor/cuda/cuda_gpu_executor.cc:880] could not open file to read NUMA node: /sys/bus/pci/devices/0000:01:00.0/numa_node\n",
      "Your kernel may have been built without NUMA support.\n",
      "2024-03-04 18:01:35.360606: I tensorflow/compiler/xla/stream_executor/cuda/cuda_gpu_executor.cc:880] could not open file to read NUMA node: /sys/bus/pci/devices/0000:01:00.0/numa_node\n",
      "Your kernel may have been built without NUMA support.\n",
      "2024-03-04 18:01:35.360809: I tensorflow/compiler/xla/stream_executor/cuda/cuda_gpu_executor.cc:880] could not open file to read NUMA node: /sys/bus/pci/devices/0000:01:00.0/numa_node\n",
      "Your kernel may have been built without NUMA support.\n",
      "2024-03-04 18:01:36.009747: I tensorflow/compiler/xla/stream_executor/cuda/cuda_gpu_executor.cc:880] could not open file to read NUMA node: /sys/bus/pci/devices/0000:01:00.0/numa_node\n",
      "Your kernel may have been built without NUMA support.\n",
      "2024-03-04 18:01:36.010243: I tensorflow/compiler/xla/stream_executor/cuda/cuda_gpu_executor.cc:880] could not open file to read NUMA node: /sys/bus/pci/devices/0000:01:00.0/numa_node\n",
      "Your kernel may have been built without NUMA support.\n",
      "2024-03-04 18:01:36.010261: I tensorflow/core/common_runtime/gpu/gpu_device.cc:1977] Could not identify NUMA node of platform GPU id 0, defaulting to 0.  Your kernel may not have been built with NUMA support.\n",
      "2024-03-04 18:01:36.010446: I tensorflow/compiler/xla/stream_executor/cuda/cuda_gpu_executor.cc:880] could not open file to read NUMA node: /sys/bus/pci/devices/0000:01:00.0/numa_node\n",
      "Your kernel may have been built without NUMA support.\n",
      "2024-03-04 18:01:36.010555: I tensorflow/core/common_runtime/gpu/gpu_device.cc:1886] Created device /job:localhost/replica:0/task:0/device:GPU:0 with 5391 MB memory:  -> device: 0, name: NVIDIA GeForce RTX 4060 Laptop GPU, pci bus id: 0000:01:00.0, compute capability: 8.9\n"
     ]
    }
   ],
   "source": [
    "#tf.keras.backend.clear_session()\n",
    "t = text.Transformer('distilbert-base-uncased', maxlen=512, class_names=target_names)\n",
    "# #other models you might try 'roberta-base', 'bert-base-uncased', 'distilroberta-base'\n",
    "#we're going to use 'distilbert-base-uncased' for our model here\n",
    "#ktrain lets us try some of the pretrained models available on huggingface\n",
    "#you can browse all the models here: https://huggingface.co/transformers/pretrained_models.html\n",
    "#some work, some dont, try at your own risk."
   ]
  },
  {
   "cell_type": "markdown",
   "metadata": {},
   "source": [
    "We have tested roberta-base and distilbert-base, both produces similar result on the dataset and hence distilbert-base was chosen because it was a bit easier to train on the 8 GB VRAM GPU."
   ]
  },
  {
   "cell_type": "code",
   "execution_count": 19,
   "metadata": {
    "colab": {
     "base_uri": "https://localhost:8080/",
     "height": 485
    },
    "id": "Hknt0exnpGRt",
    "outputId": "25c97072-b1ac-4064-f4fb-41a67ca73b77"
   },
   "outputs": [
    {
     "name": "stdout",
     "output_type": "stream",
     "text": [
      "['not_healthy/wellness', 'healthy/wellness']\n",
      "        not_healthy/wellness  healthy/wellness\n",
      "144387                   0.0               1.0\n",
      "59884                    1.0               0.0\n",
      "165889                   1.0               0.0\n",
      "50399                    1.0               0.0\n",
      "200559                   0.0               1.0\n",
      "['not_healthy/wellness', 'healthy/wellness']\n",
      "        not_healthy/wellness  healthy/wellness\n",
      "17899                    1.0               0.0\n",
      "182469                   1.0               0.0\n",
      "180164                   0.0               1.0\n",
      "132451                   1.0               0.0\n",
      "88838                    0.0               1.0\n",
      "preprocessing train...\n",
      "language: en\n",
      "train sequence lengths:\n",
      "\tmean : 32\n",
      "\t95percentile : 58\n",
      "\t99percentile : 68\n"
     ]
    },
    {
     "data": {
      "text/html": [
       "\n",
       "<style>\n",
       "    /* Turns off some styling */\n",
       "    progress {\n",
       "        /* gets rid of default border in Firefox and Opera. */\n",
       "        border: none;\n",
       "        /* Needs to be in here for Safari polyfill so background images work as expected. */\n",
       "        background-size: auto;\n",
       "    }\n",
       "    progress:not([value]), progress:not([value])::-webkit-progress-bar {\n",
       "        background: repeating-linear-gradient(45deg, #7e7e7e, #7e7e7e 10px, #5c5c5c 10px, #5c5c5c 20px);\n",
       "    }\n",
       "    .progress-bar-interrupted, .progress-bar-interrupted::-webkit-progress-bar {\n",
       "        background: #F44336;\n",
       "    }\n",
       "</style>\n"
      ],
      "text/plain": [
       "<IPython.core.display.HTML object>"
      ]
     },
     "metadata": {},
     "output_type": "display_data"
    },
    {
     "data": {
      "text/html": [],
      "text/plain": [
       "<IPython.core.display.HTML object>"
      ]
     },
     "metadata": {},
     "output_type": "display_data"
    },
    {
     "name": "stdout",
     "output_type": "stream",
     "text": [
      "Is Multi-Label? False\n",
      "preprocessing test...\n",
      "language: en\n",
      "test sequence lengths:\n",
      "\tmean : 33\n",
      "\t95percentile : 59\n",
      "\t99percentile : 68\n"
     ]
    },
    {
     "data": {
      "text/html": [
       "\n",
       "<style>\n",
       "    /* Turns off some styling */\n",
       "    progress {\n",
       "        /* gets rid of default border in Firefox and Opera. */\n",
       "        border: none;\n",
       "        /* Needs to be in here for Safari polyfill so background images work as expected. */\n",
       "        background-size: auto;\n",
       "    }\n",
       "    progress:not([value]), progress:not([value])::-webkit-progress-bar {\n",
       "        background: repeating-linear-gradient(45deg, #7e7e7e, #7e7e7e 10px, #5c5c5c 10px, #5c5c5c 20px);\n",
       "    }\n",
       "    .progress-bar-interrupted, .progress-bar-interrupted::-webkit-progress-bar {\n",
       "        background: #F44336;\n",
       "    }\n",
       "</style>\n"
      ],
      "text/plain": [
       "<IPython.core.display.HTML object>"
      ]
     },
     "metadata": {},
     "output_type": "display_data"
    },
    {
     "data": {
      "text/html": [],
      "text/plain": [
       "<IPython.core.display.HTML object>"
      ]
     },
     "metadata": {},
     "output_type": "display_data"
    }
   ],
   "source": [
    "train, val, preprocess = texts_from_df(review_sample, 'combined_text', label_columns=['healthy/wellness'], val_df=None, max_features=20000, maxlen=512, val_pct=0.1, ngram_range=1, preprocess_mode='distilbert', verbose=1)"
   ]
  },
  {
   "cell_type": "markdown",
   "metadata": {},
   "source": [
    "### Hyperparameter Tuning"
   ]
  },
  {
   "cell_type": "markdown",
   "metadata": {},
   "source": [
    "For hyperparameter tuning we have focused on the learning rate, epochs, and batch size.\n",
    "\n",
    "Learning Rate was tested based on the lr_find. The learning rate of 0.0001 was found to be best one for validation loss as it helped the models in 1 epoch only with lowest validation loss.\n",
    "\n",
    "Epochs was chosen to be 12 but we also used early stopping to stop overfitting the model with training data.\n",
    "\n",
    "Various kinds of Batch Sizes were tested. We tested 16, 12, 10, 8, and 4. For the model below batch size of 8 provided the best balance due to limited VRAM."
   ]
  },
  {
   "cell_type": "code",
   "execution_count": 22,
   "metadata": {
    "id": "wD_xu8e30bXp"
   },
   "outputs": [],
   "source": [
    "model = preprocess.get_classifier()\n",
    "learner = ktrain.get_learner(model, train_data = train, val_data = val, batch_size = 8)"
   ]
  },
  {
   "cell_type": "code",
   "execution_count": 53,
   "metadata": {
    "id": "aWdebCQvEBKz"
   },
   "outputs": [],
   "source": [
    "#Uncomment this section to check for Hyperparameter tuning. This code alone was enough to completely exhaust the Colab resources \n",
    "#as each epoch took more than 50 minutes. We found learning rate = 0.0004 as most optimal for our model and it was able to get best model \n",
    "# in 1 epoch only\n",
    "\n",
    "#learner.lr_find(max_epochs = 4)\n",
    "#learner.lr_plot()"
   ]
  },
  {
   "cell_type": "code",
   "execution_count": 23,
   "metadata": {
    "colab": {
     "base_uri": "https://localhost:8080/",
     "height": 373
    },
    "id": "HX274hDU0j8R",
    "outputId": "dbd7301b-be52-418a-c39c-2b4671ca8ea0"
   },
   "outputs": [
    {
     "name": "stdout",
     "output_type": "stream",
     "text": [
      "\n",
      "\n",
      "begin training using triangular learning rate policy with max lr of 0.0001...\n",
      "Epoch 1/12\n",
      "5518/5518 [==============================] - 1826s 329ms/step - loss: 0.2594 - accuracy: 0.8975 - val_loss: 0.2300 - val_accuracy: 0.9101\n",
      "Epoch 2/12\n",
      "5518/5518 [==============================] - ETA: 0s - loss: 0.1736 - accuracy: 0.9368Restoring model weights from the end of the best epoch: 1.\n",
      "5518/5518 [==============================] - 1812s 328ms/step - loss: 0.1736 - accuracy: 0.9368 - val_loss: 0.2392 - val_accuracy: 0.9119\n",
      "Epoch 2: early stopping\n",
      "Weights from best epoch have been loaded into model.\n"
     ]
    }
   ],
   "source": [
    "history=learner.autofit(lr = 0.0001, checkpoint_folder='checkpoint', epochs=12, early_stopping=True)"
   ]
  },
  {
   "cell_type": "markdown",
   "metadata": {},
   "source": [
    "We can train the model more and get even lower training accuracy but our validation loss is increasing, leading to an early stopping."
   ]
  },
  {
   "cell_type": "code",
   "execution_count": 25,
   "metadata": {
    "id": "BbCyJzzIzHg3"
   },
   "outputs": [],
   "source": [
    "learner.save_model(\"Models\") #kindly change the path name for saving the model as required"
   ]
  },
  {
   "cell_type": "code",
   "execution_count": 26,
   "metadata": {
    "id": "ti1VfWebw-a3"
   },
   "outputs": [],
   "source": [
    "predictor = ktrain.get_predictor(learner.model, preproc = preprocess) #kindly change the path name for saving the predictor as required\n",
    "predictor.save(\"Models/distilbertmodel_predictor\")"
   ]
  },
  {
   "cell_type": "code",
   "execution_count": 28,
   "metadata": {
    "colab": {
     "base_uri": "https://localhost:8080/"
    },
    "id": "sv5DoNl-Ra8T",
    "outputId": "fb62b390-bd84-497a-835a-b2d97ddebb79"
   },
   "outputs": [
    {
     "name": "stdout",
     "output_type": "stream",
     "text": [
      "154/154 [==============================] - 29s 185ms/step\n",
      "              precision    recall  f1-score   support\n",
      "\n",
      "           0       0.92      0.89      0.91      2447\n",
      "           1       0.90      0.93      0.91      2458\n",
      "\n",
      "    accuracy                           0.91      4905\n",
      "   macro avg       0.91      0.91      0.91      4905\n",
      "weighted avg       0.91      0.91      0.91      4905\n",
      "\n"
     ]
    },
    {
     "name": "stderr",
     "output_type": "stream",
     "text": [
      "2024-03-04 19:08:42.232525: I tensorflow/core/framework/local_rendezvous.cc:425] Local rendezvous send item cancelled. Key hash: 14223035841211147212\n",
      "2024-03-04 19:08:42.232567: I tensorflow/core/framework/local_rendezvous.cc:425] Local rendezvous send item cancelled. Key hash: 16383104163609519266\n",
      "2024-03-04 19:08:42.232574: I tensorflow/core/framework/local_rendezvous.cc:425] Local rendezvous send item cancelled. Key hash: 10001081610313711625\n",
      "2024-03-04 19:08:42.232593: I tensorflow/core/framework/local_rendezvous.cc:425] Local rendezvous send item cancelled. Key hash: 17566559741852055733\n"
     ]
    }
   ],
   "source": [
    "validation = learner.validate(val_data=val, print_report=True)"
   ]
  },
  {
   "cell_type": "markdown",
   "metadata": {
    "id": "8A4jGZxtnlL5"
   },
   "source": [
    "We got a very competitive model with a few lines of code due to Ktrain. We will focus on accuracy here because model is balanced.\n",
    "\n",
    "With the accuracy of 0.91 on validation dataset this model is better than others created during the course. And also it has a good recall of 0.93 for the Positive Articles, meaning that it was able to flag 93% of all Healthy/Wellbeing articles. This can surely help the Threagun in placing the digital ads across correct targetted articles. "
   ]
  },
  {
   "cell_type": "markdown",
   "metadata": {
    "id": "1g4KhsgzoQgr"
   },
   "source": [
    "# Further Analysis"
   ]
  },
  {
   "cell_type": "markdown",
   "metadata": {
    "id": "CLsIxS6houWD"
   },
   "source": [
    "At this step we will further analyze the model."
   ]
  },
  {
   "cell_type": "markdown",
   "metadata": {
    "id": "vB1_AaQBp35M"
   },
   "source": [
    "Let's go ahead and make a little set of test documents to check out"
   ]
  },
  {
   "cell_type": "code",
   "execution_count": 30,
   "metadata": {
    "id": "Phek3FTqqAIl"
   },
   "outputs": [],
   "source": [
    "test_docs = [\n",
    "'Stress May Be Your Heart’s Worst Enemy Psychological stress activates the fear center in the brain, setting into motion a cascade of reactions that can lead to heart attacks and strokes.',\n",
    "'Exercising to Slim Down? Try Getting Bigger. It’s high time for women to reclaim the real strength behind exercise.',\n",
    "'What Are Your Food Resolutions for the New Year? Join us for the Eat Well Challenge starting in January.',\n",
    "'Why We All Need to Have More Fun. Prioritizing fun may feel impossible right now. But this four-step plan will help you rediscover how to feel more alive.',\n",
    "'Cuomo Will Not Be Prosecuted in Groping Case, Albany D.A. Says. The district attorney described the woman who said former Gov. Andrew Cuomo had groped her as “credible,” but added that proving her allegation would be difficult.',\n",
    "'A Film Captures Jewish Life in a Polish Town Before the Nazis Arrived. A documentary based on a home movie shot by an American in 1938 provides a look at the vibrancy of a Jewish community in Europe just before the Holocaust.'\n",
    "             ]"
   ]
  },
  {
   "cell_type": "code",
   "execution_count": 96,
   "metadata": {
    "colab": {
     "base_uri": "https://localhost:8080/"
    },
    "id": "fQbBKDiPb9FO",
    "outputId": "c94a129a-a98a-4056-e77b-79327114d725"
   },
   "outputs": [
    {
     "name": "stdout",
     "output_type": "stream",
     "text": [
      "---------------------------\n",
      "The probability this is healthy/wellness is 0.9920129\n",
      "Stress May Be Your Heart’s Worst Enemy Psychological stress activates the fear center in the brain, setting into motion a cascade of reactions that can lead to heart attacks and strokes.\n",
      "---------------------------\n",
      "The probability this is healthy/wellness is 0.98869216\n",
      "Exercising to Slim Down? Try Getting Bigger. It’s high time for women to reclaim the real strength behind exercise.\n",
      "---------------------------\n",
      "The probability this is healthy/wellness is 0.9475943\n",
      "What Are Your Food Resolutions for the New Year? Join us for the Eat Well Challenge starting in January.\n",
      "---------------------------\n",
      "The probability this is healthy/wellness is 0.9495482\n",
      "Why We All Need to Have More Fun. Prioritizing fun may feel impossible right now. But this four-step plan will help you rediscover how to feel more alive.\n",
      "---------------------------\n",
      "The probability this is healthy/wellness is 0.0021799286\n",
      "Cuomo Will Not Be Prosecuted in Groping Case, Albany D.A. Says. The district attorney described the woman who said former Gov. Andrew Cuomo had groped her as “credible,” but added that proving her allegation would be difficult.\n",
      "---------------------------\n",
      "The probability this is healthy/wellness is 0.002042267\n",
      "A Film Captures Jewish Life in a Polish Town Before the Nazis Arrived. A documentary based on a home movie shot by an American in 1938 provides a look at the vibrancy of a Jewish community in Europe just before the Holocaust.\n"
     ]
    }
   ],
   "source": [
    "for i, text in enumerate(test_docs):\n",
    "  probs = predictor.predict(text, return_proba=True)\n",
    "  print(\"---------------------------\")\n",
    "  print('The probability this is healthy/wellness is %s' % probs[1])\n",
    "  print(text)"
   ]
  },
  {
   "cell_type": "markdown",
   "metadata": {
    "id": "hha7-WCOr0RN"
   },
   "source": [
    "Model is correctly predicting the test article with relatively high probability attached to the correct articles, all above 0.94."
   ]
  },
  {
   "cell_type": "code",
   "execution_count": 39,
   "metadata": {
    "colab": {
     "base_uri": "https://localhost:8080/",
     "height": 170
    },
    "id": "KVpTNeKqXhov",
    "outputId": "e29389d9-81db-4a95-986f-488e35ab5e3d"
   },
   "outputs": [
    {
     "data": {
      "text/plain": [
       "array([0.33241376, 0.6675862 ], dtype=float32)"
      ]
     },
     "execution_count": 39,
     "metadata": {},
     "output_type": "execute_result"
    }
   ],
   "source": [
    "predictor.predict('Diversity is the key to a healthy society. Here is what we need to do to make america a more equitable place to live for all.', return_proba = True)"
   ]
  },
  {
   "cell_type": "markdown",
   "metadata": {
    "id": "SWgUdJuxsJ1r"
   },
   "source": [
    "However, it is far from perfect. As we can see here the description here contains, healthy society among other things which could contain weight in model even if description is not about an Health or Wellness based article. Our model flagged it as Healthy/Wellness with probability of 0.667. This is an improvement if we compare to previous models having 0.74 peobability. We can adjust the cutoff to greater than 0.7 or so.\n",
    "\n",
    "We can also try to increase the examples of negative examples so that model can learn from them. We will do it in the next step"
   ]
  },
  {
   "cell_type": "markdown",
   "metadata": {},
   "source": [
    "## Unbalanced Dataset Based Model"
   ]
  },
  {
   "cell_type": "markdown",
   "metadata": {},
   "source": [
    "In this step we will train another DistilBERT model with twice the number of negative examples and check if it improves at identifying more complex articles correctly. "
   ]
  },
  {
   "cell_type": "code",
   "execution_count": 43,
   "metadata": {},
   "outputs": [],
   "source": [
    "sample_amount_2 = len(reviews[reviews[\"healthy/wellness\"] == 1])*2\n",
    "\n",
    "healthy = reviews[reviews['healthy/wellness'] == 1]\n",
    "not_healthy = reviews[reviews['healthy/wellness'] == 0].sample(n=sample_amount_2, random_state = 10)"
   ]
  },
  {
   "cell_type": "code",
   "execution_count": 45,
   "metadata": {},
   "outputs": [],
   "source": [
    "review_sample_2 = pd.concat([healthy,not_healthy])"
   ]
  },
  {
   "cell_type": "code",
   "execution_count": 46,
   "metadata": {},
   "outputs": [
    {
     "data": {
      "text/html": [
       "<div>\n",
       "<style scoped>\n",
       "    .dataframe tbody tr th:only-of-type {\n",
       "        vertical-align: middle;\n",
       "    }\n",
       "\n",
       "    .dataframe tbody tr th {\n",
       "        vertical-align: top;\n",
       "    }\n",
       "\n",
       "    .dataframe thead th {\n",
       "        text-align: right;\n",
       "    }\n",
       "</style>\n",
       "<table border=\"1\" class=\"dataframe\">\n",
       "  <thead>\n",
       "    <tr style=\"text-align: right;\">\n",
       "      <th></th>\n",
       "      <th>date</th>\n",
       "      <th>healthy/wellness</th>\n",
       "    </tr>\n",
       "  </thead>\n",
       "  <tbody>\n",
       "    <tr>\n",
       "      <th>count</th>\n",
       "      <td>73563</td>\n",
       "      <td>73563.000000</td>\n",
       "    </tr>\n",
       "    <tr>\n",
       "      <th>mean</th>\n",
       "      <td>2014-10-24 22:22:34.496146176</td>\n",
       "      <td>0.333333</td>\n",
       "    </tr>\n",
       "    <tr>\n",
       "      <th>min</th>\n",
       "      <td>2012-01-28 00:00:00</td>\n",
       "      <td>0.000000</td>\n",
       "    </tr>\n",
       "    <tr>\n",
       "      <th>25%</th>\n",
       "      <td>2013-04-17 00:00:00</td>\n",
       "      <td>0.000000</td>\n",
       "    </tr>\n",
       "    <tr>\n",
       "      <th>50%</th>\n",
       "      <td>2014-07-26 00:00:00</td>\n",
       "      <td>0.000000</td>\n",
       "    </tr>\n",
       "    <tr>\n",
       "      <th>75%</th>\n",
       "      <td>2016-04-21 00:00:00</td>\n",
       "      <td>1.000000</td>\n",
       "    </tr>\n",
       "    <tr>\n",
       "      <th>max</th>\n",
       "      <td>2018-05-26 00:00:00</td>\n",
       "      <td>1.000000</td>\n",
       "    </tr>\n",
       "    <tr>\n",
       "      <th>std</th>\n",
       "      <td>NaN</td>\n",
       "      <td>0.471408</td>\n",
       "    </tr>\n",
       "  </tbody>\n",
       "</table>\n",
       "</div>"
      ],
      "text/plain": [
       "                                date  healthy/wellness\n",
       "count                          73563      73563.000000\n",
       "mean   2014-10-24 22:22:34.496146176          0.333333\n",
       "min              2012-01-28 00:00:00          0.000000\n",
       "25%              2013-04-17 00:00:00          0.000000\n",
       "50%              2014-07-26 00:00:00          0.000000\n",
       "75%              2016-04-21 00:00:00          1.000000\n",
       "max              2018-05-26 00:00:00          1.000000\n",
       "std                              NaN          0.471408"
      ]
     },
     "execution_count": 46,
     "metadata": {},
     "output_type": "execute_result"
    }
   ],
   "source": [
    "review_sample_2.describe()"
   ]
  },
  {
   "cell_type": "markdown",
   "metadata": {},
   "source": [
    "One Third of the observations in this dataset are positive examples while rest are negative examples."
   ]
  },
  {
   "cell_type": "code",
   "execution_count": 47,
   "metadata": {},
   "outputs": [
    {
     "name": "stdout",
     "output_type": "stream",
     "text": [
      "['not_healthy/wellness', 'healthy/wellness']\n",
      "        not_healthy/wellness  healthy/wellness\n",
      "80089                    1.0               0.0\n",
      "197519                   1.0               0.0\n",
      "180658                   1.0               0.0\n",
      "106952                   0.0               1.0\n",
      "95492                    0.0               1.0\n",
      "['not_healthy/wellness', 'healthy/wellness']\n",
      "        not_healthy/wellness  healthy/wellness\n",
      "88171                    1.0               0.0\n",
      "67976                    1.0               0.0\n",
      "84052                    1.0               0.0\n",
      "137647                   0.0               1.0\n",
      "89909                    1.0               0.0\n",
      "preprocessing train...\n",
      "language: en\n",
      "train sequence lengths:\n",
      "\tmean : 31\n",
      "\t95percentile : 57\n",
      "\t99percentile : 67\n"
     ]
    },
    {
     "data": {
      "text/html": [
       "\n",
       "<style>\n",
       "    /* Turns off some styling */\n",
       "    progress {\n",
       "        /* gets rid of default border in Firefox and Opera. */\n",
       "        border: none;\n",
       "        /* Needs to be in here for Safari polyfill so background images work as expected. */\n",
       "        background-size: auto;\n",
       "    }\n",
       "    progress:not([value]), progress:not([value])::-webkit-progress-bar {\n",
       "        background: repeating-linear-gradient(45deg, #7e7e7e, #7e7e7e 10px, #5c5c5c 10px, #5c5c5c 20px);\n",
       "    }\n",
       "    .progress-bar-interrupted, .progress-bar-interrupted::-webkit-progress-bar {\n",
       "        background: #F44336;\n",
       "    }\n",
       "</style>\n"
      ],
      "text/plain": [
       "<IPython.core.display.HTML object>"
      ]
     },
     "metadata": {},
     "output_type": "display_data"
    },
    {
     "data": {
      "text/html": [],
      "text/plain": [
       "<IPython.core.display.HTML object>"
      ]
     },
     "metadata": {},
     "output_type": "display_data"
    },
    {
     "name": "stdout",
     "output_type": "stream",
     "text": [
      "Is Multi-Label? False\n",
      "preprocessing test...\n",
      "language: en\n",
      "test sequence lengths:\n",
      "\tmean : 31\n",
      "\t95percentile : 57\n",
      "\t99percentile : 67\n"
     ]
    },
    {
     "data": {
      "text/html": [
       "\n",
       "<style>\n",
       "    /* Turns off some styling */\n",
       "    progress {\n",
       "        /* gets rid of default border in Firefox and Opera. */\n",
       "        border: none;\n",
       "        /* Needs to be in here for Safari polyfill so background images work as expected. */\n",
       "        background-size: auto;\n",
       "    }\n",
       "    progress:not([value]), progress:not([value])::-webkit-progress-bar {\n",
       "        background: repeating-linear-gradient(45deg, #7e7e7e, #7e7e7e 10px, #5c5c5c 10px, #5c5c5c 20px);\n",
       "    }\n",
       "    .progress-bar-interrupted, .progress-bar-interrupted::-webkit-progress-bar {\n",
       "        background: #F44336;\n",
       "    }\n",
       "</style>\n"
      ],
      "text/plain": [
       "<IPython.core.display.HTML object>"
      ]
     },
     "metadata": {},
     "output_type": "display_data"
    },
    {
     "data": {
      "text/html": [],
      "text/plain": [
       "<IPython.core.display.HTML object>"
      ]
     },
     "metadata": {},
     "output_type": "display_data"
    }
   ],
   "source": [
    "train_2, val_2, preprocess_2 = texts_from_df(review_sample_2, 'combined_text', label_columns=['healthy/wellness'], val_df=None, max_features=20000, maxlen=512, val_pct=0.1, ngram_range=1, preprocess_mode='distilbert', verbose=1)`x"
   ]
  },
  {
   "cell_type": "markdown",
   "metadata": {},
   "source": [
    "We have done similar hyperparameter tuning for this model too. Once again learnning rate of 0.0001 was found to be best option. For Batch Size we were able to train with only batch size of 4 or lower. If more VRAM is availaible this can be increased accordingly."
   ]
  },
  {
   "cell_type": "code",
   "execution_count": 50,
   "metadata": {},
   "outputs": [],
   "source": [
    "model_2 = preprocess.get_classifier()\n",
    "learner_2 = ktrain.get_learner(model_2, train_data = train_2, val_data = val_2, batch_size=4)"
   ]
  },
  {
   "cell_type": "code",
   "execution_count": 51,
   "metadata": {},
   "outputs": [
    {
     "name": "stdout",
     "output_type": "stream",
     "text": [
      "\n",
      "\n",
      "begin training using triangular learning rate policy with max lr of 0.0001...\n",
      "Epoch 1/12\n",
      "16552/16552 [==============================] - ETA: 0s - loss: 0.2966 - accuracy: 0.8795"
     ]
    },
    {
     "name": "stderr",
     "output_type": "stream",
     "text": [
      "2024-03-04 20:07:14.337215: I tensorflow/core/kernels/data/shuffle_dataset_op.cc:422] ShuffleDatasetV3:175: Filling up shuffle buffer (this may take a while): 42567 of 66206\n",
      "2024-03-04 20:07:19.408960: I tensorflow/core/kernels/data/shuffle_dataset_op.cc:452] Shuffle buffer filled.\n"
     ]
    },
    {
     "name": "stdout",
     "output_type": "stream",
     "text": [
      "16552/16552 [==============================] - 2868s 172ms/step - loss: 0.2966 - accuracy: 0.8795 - val_loss: 0.2299 - val_accuracy: 0.9123\n",
      "Epoch 2/12\n",
      "16552/16552 [==============================] - ETA: 0s - loss: 0.3333 - accuracy: 0.8365"
     ]
    },
    {
     "name": "stderr",
     "output_type": "stream",
     "text": [
      "2024-03-04 20:54:37.955300: I tensorflow/core/kernels/data/shuffle_dataset_op.cc:422] ShuffleDatasetV3:175: Filling up shuffle buffer (this may take a while): 59629 of 66206\n",
      "2024-03-04 20:54:39.119455: I tensorflow/core/kernels/data/shuffle_dataset_op.cc:452] Shuffle buffer filled.\n"
     ]
    },
    {
     "name": "stdout",
     "output_type": "stream",
     "text": [
      "Restoring model weights from the end of the best epoch: 1.\n",
      "16552/16552 [==============================] - 2841s 172ms/step - loss: 0.3333 - accuracy: 0.8365 - val_loss: 0.4572 - val_accuracy: 0.7091\n",
      "Epoch 2: early stopping\n",
      "Weights from best epoch have been loaded into model.\n"
     ]
    }
   ],
   "source": [
    "history_2 = learner_2.autofit(lr = 0.0001, checkpoint_folder='checkpoint', epochs=12, early_stopping=True)"
   ]
  },
  {
   "cell_type": "code",
   "execution_count": 54,
   "metadata": {},
   "outputs": [],
   "source": [
    "predictor_2 = ktrain.get_predictor(learner_2.model, preproc = preprocess_2)"
   ]
  },
  {
   "cell_type": "code",
   "execution_count": 87,
   "metadata": {},
   "outputs": [
    {
     "name": "stdout",
     "output_type": "stream",
     "text": [
      "230/230 [==============================] - 42s 184ms/step\n",
      "              precision    recall  f1-score   support\n",
      "\n",
      "           0       0.94      0.93      0.93      4893\n",
      "           1       0.86      0.88      0.87      2464\n",
      "\n",
      "    accuracy                           0.91      7357\n",
      "   macro avg       0.90      0.90      0.90      7357\n",
      "weighted avg       0.91      0.91      0.91      7357\n",
      "\n"
     ]
    },
    {
     "name": "stderr",
     "output_type": "stream",
     "text": [
      "2024-03-04 23:08:02.009435: I tensorflow/core/framework/local_rendezvous.cc:421] Local rendezvous recv item cancelled. Key hash: 8407797739455120991\n",
      "2024-03-04 23:08:02.009488: I tensorflow/core/framework/local_rendezvous.cc:421] Local rendezvous recv item cancelled. Key hash: 16444579926754923838\n",
      "2024-03-04 23:08:02.009517: I tensorflow/core/framework/local_rendezvous.cc:421] Local rendezvous recv item cancelled. Key hash: 628853751392318912\n"
     ]
    }
   ],
   "source": [
    "validation_2 = learner_2.validate(val_data = val_2, print_report=True)"
   ]
  },
  {
   "cell_type": "markdown",
   "metadata": {},
   "source": [
    "Validation Accuracy is similar with 0.91, however this Model is using unbalanced dataset so we will focus on Recall and precision, more specifically on the recall.\n",
    "\n",
    "For Negative Examples new Model has both higher precision and recall compared to model. However we can also observe lower Recall and Precision for Positive Examples, which is a matter of concern. While new model is progressively better in flagging negative examples, due to lower propertion or lower number of positive observations we see a reduction in recall and precision for that part. "
   ]
  },
  {
   "cell_type": "code",
   "execution_count": 95,
   "metadata": {},
   "outputs": [
    {
     "name": "stdout",
     "output_type": "stream",
     "text": [
      "---------------------------\n",
      "The probability this is healthy/wellness is 0.9489601\n",
      "Stress May Be Your Heart’s Worst Enemy Psychological stress activates the fear center in the brain, setting into motion a cascade of reactions that can lead to heart attacks and strokes.\n",
      "---------------------------\n",
      "The probability this is healthy/wellness is 0.933506\n",
      "Exercising to Slim Down? Try Getting Bigger. It’s high time for women to reclaim the real strength behind exercise.\n",
      "---------------------------\n",
      "The probability this is healthy/wellness is 0.9437348\n",
      "What Are Your Food Resolutions for the New Year? Join us for the Eat Well Challenge starting in January.\n",
      "---------------------------\n",
      "The probability this is healthy/wellness is 0.9376104\n",
      "Why We All Need to Have More Fun. Prioritizing fun may feel impossible right now. But this four-step plan will help you rediscover how to feel more alive.\n",
      "---------------------------\n",
      "The probability this is healthy/wellness is 0.02031795\n",
      "Cuomo Will Not Be Prosecuted in Groping Case, Albany D.A. Says. The district attorney described the woman who said former Gov. Andrew Cuomo had groped her as “credible,” but added that proving her allegation would be difficult.\n",
      "---------------------------\n",
      "The probability this is healthy/wellness is 0.007368392\n",
      "A Film Captures Jewish Life in a Polish Town Before the Nazis Arrived. A documentary based on a home movie shot by an American in 1938 provides a look at the vibrancy of a Jewish community in Europe just before the Holocaust.\n"
     ]
    }
   ],
   "source": [
    "for i, text in enumerate(test_docs):\n",
    "  probs = predictor_2.predict(text, return_proba=True)\n",
    "  print(\"---------------------------\")\n",
    "  print('The probability this is healthy/wellness is %s' % probs[1])\n",
    "  print(text)"
   ]
  },
  {
   "cell_type": "code",
   "execution_count": 58,
   "metadata": {},
   "outputs": [
    {
     "data": {
      "text/plain": [
       "array([0.3416929 , 0.65830714], dtype=float32)"
      ]
     },
     "execution_count": 58,
     "metadata": {},
     "output_type": "execute_result"
    }
   ],
   "source": [
    "predictor_2.predict('Diversity is the key to a healthy society. Here is what we need to do to make america a more equitable place to live for all.', return_proba = True)"
   ]
  },
  {
   "cell_type": "markdown",
   "metadata": {},
   "source": [
    "There is not much difference in the performance across the models in the complex example we used before as previously we got 0.667 probability for Healthy/Wellness and this time we have probability of 0.658, not much of a difference.\n",
    "\n",
    "However, it is not the complete picture. This example was specifically created to test the model, now we will find few similar complex articles from internet randomly and test them."
   ]
  },
  {
   "cell_type": "code",
   "execution_count": 89,
   "metadata": {},
   "outputs": [],
   "source": [
    "test_complex = [\n",
    "    \"The United States health care system is on a collision course with demographic trends and economic realities. In its May 2008 issue, the health policy journal Health Affairs predicted that “if current trends persist, sometime between 2016 and 2020 existing federal revenues will cover only health entitlements, Social Security, debt service, and a smaller defense budget, leaving nothing for anything else, including the environment, education or new health initiatives.\",\n",
    "    \"The main objective of this study is to examine the effect of health on economic growth based on 719 estimates obtained from 64 studies from all over the world. We find evidence of a publication bias towards a positive estimated effect of health on economic growth. After accounting for heterogeneity of the estimates, we show that health has a genuine positive effect on economic growth. Less developed countries seem to enjoy a higher effect of health on growth driven by the ongoing economic–demographic transition in those countries.\",\n",
    "    \"Poor mental health can make earning and managing money harder. And worrying about money can make your mental health worse. It can start to feel like a vicious cycle. Here, you can find out more about organising your finances, claiming benefits when you have a mental health problem, dealing with services, and looking after your mental health when you’re worried about money.\",\n",
    "    \"High exposure to ultra-processed foods like sodas, candy, pre-packaged meat, sugary cereals, and potato chips is connected to an increased risk of 32 health issues including cancer, cardiovascular, gastrointestinal, and respiratory disorders, depression, anxiety, and early death, according to a new study published in The BMJTrusted\",\n",
    "    \"In the Global Wellness Institute’s latest Global Wellness Economy Monitor report, now in its fifth edition, researchers at the organization said the wellness economy reached a global total of $5.6 trillion in 2022 with a compounded annual growth rate of 12.1 percent. The sectors include spas, thermal/mineral springs, wellness tourism,\"\n",
    "]"
   ]
  },
  {
   "cell_type": "code",
   "execution_count": 94,
   "metadata": {},
   "outputs": [
    {
     "name": "stdout",
     "output_type": "stream",
     "text": [
      "---------------------------\n",
      "The probability this is healthy/wellness is 0.6713605\n",
      "The United States health care system is on a collision course with demographic trends and economic realities. In its May 2008 issue, the health policy journal Health Affairs predicted that “if current trends persist, sometime between 2016 and 2020 existing federal revenues will cover only health entitlements, Social Security, debt service, and a smaller defense budget, leaving nothing for anything else, including the environment, education or new health initiatives.\n",
      "---------------------------\n",
      "The probability this is healthy/wellness is 0.81019896\n",
      "The main objective of this study is to examine the effect of health on economic growth based on 719 estimates obtained from 64 studies from all over the world. We find evidence of a publication bias towards a positive estimated effect of health on economic growth. After accounting for heterogeneity of the estimates, we show that health has a genuine positive effect on economic growth. Less developed countries seem to enjoy a higher effect of health on growth driven by the ongoing economic–demographic transition in those countries.\n",
      "---------------------------\n",
      "The probability this is healthy/wellness is 0.9762406\n",
      "Poor mental health can make earning and managing money harder. And worrying about money can make your mental health worse. It can start to feel like a vicious cycle. Here, you can find out more about organising your finances, claiming benefits when you have a mental health problem, dealing with services, and looking after your mental health when you’re worried about money.\n",
      "---------------------------\n",
      "The probability this is healthy/wellness is 0.99168664\n",
      "High exposure to ultra-processed foods like sodas, candy, pre-packaged meat, sugary cereals, and potato chips is connected to an increased risk of 32 health issues including cancer, cardiovascular, gastrointestinal, and respiratory disorders, depression, anxiety, and early death, according to a new study published in The BMJTrusted\n",
      "---------------------------\n",
      "The probability this is healthy/wellness is 0.8429026\n",
      "In the Global Wellness Institute’s latest Global Wellness Economy Monitor report, now in its fifth edition, researchers at the organization said the wellness economy reached a global total of $5.6 trillion in 2022 with a compounded annual growth rate of 12.1 percent. The sectors include spas, thermal/mineral springs, wellness tourism,\n"
     ]
    }
   ],
   "source": [
    "for i, text in enumerate(test_complex):\n",
    "  probs = predictor.predict(text, return_proba=True)\n",
    "  print(\"---------------------------\")\n",
    "  print('The probability this is healthy/wellness is %s' % probs[1])\n",
    "  print(text)"
   ]
  },
  {
   "cell_type": "code",
   "execution_count": 93,
   "metadata": {},
   "outputs": [
    {
     "name": "stdout",
     "output_type": "stream",
     "text": [
      "---------------------------\n",
      "The probability this is healthy/wellness is 0.41782078\n",
      "The United States health care system is on a collision course with demographic trends and economic realities. In its May 2008 issue, the health policy journal Health Affairs predicted that “if current trends persist, sometime between 2016 and 2020 existing federal revenues will cover only health entitlements, Social Security, debt service, and a smaller defense budget, leaving nothing for anything else, including the environment, education or new health initiatives.\n",
      "---------------------------\n",
      "The probability this is healthy/wellness is 0.83476603\n",
      "The main objective of this study is to examine the effect of health on economic growth based on 719 estimates obtained from 64 studies from all over the world. We find evidence of a publication bias towards a positive estimated effect of health on economic growth. After accounting for heterogeneity of the estimates, we show that health has a genuine positive effect on economic growth. Less developed countries seem to enjoy a higher effect of health on growth driven by the ongoing economic–demographic transition in those countries.\n",
      "---------------------------\n",
      "The probability this is healthy/wellness is 0.946618\n",
      "Poor mental health can make earning and managing money harder. And worrying about money can make your mental health worse. It can start to feel like a vicious cycle. Here, you can find out more about organising your finances, claiming benefits when you have a mental health problem, dealing with services, and looking after your mental health when you’re worried about money.\n",
      "---------------------------\n",
      "The probability this is healthy/wellness is 0.94963527\n",
      "High exposure to ultra-processed foods like sodas, candy, pre-packaged meat, sugary cereals, and potato chips is connected to an increased risk of 32 health issues including cancer, cardiovascular, gastrointestinal, and respiratory disorders, depression, anxiety, and early death, according to a new study published in The BMJTrusted\n",
      "---------------------------\n",
      "The probability this is healthy/wellness is 0.5683977\n",
      "In the Global Wellness Institute’s latest Global Wellness Economy Monitor report, now in its fifth edition, researchers at the organization said the wellness economy reached a global total of $5.6 trillion in 2022 with a compounded annual growth rate of 12.1 percent. The sectors include spas, thermal/mineral springs, wellness tourism,\n"
     ]
    }
   ],
   "source": [
    "for i, text in enumerate(test_complex):\n",
    "  probs = predictor_2.predict(text, return_proba=True)\n",
    "  print(\"---------------------------\")\n",
    "  print('The probability this is healthy/wellness is %s' % probs[1])\n",
    "  print(text)"
   ]
  },
  {
   "cell_type": "markdown",
   "metadata": {},
   "source": [
    "Among the 5 examples, only fourth article caters to healthy/wellness specifically. Last article is about Wellness industry as a whole so it can be flagged as such, similarly third article is about mental health around financial aspects, both can be flagged as healthy or wellness based articles with some relaxations. However first and second articles are definitely not based on these topics.\n",
    "\n",
    "Here we have some interesting findings:\n",
    "1. New model with more negative observations was able to successfully avoid flagging first one as healthy/wellness with probability of 0.418 against  0.67 from previous model. This reflects that in some cases new models trained on more negative examples could help us.\n",
    "2. Both models are still mostly focused on few keywords like Health, mental health, and more. Due to this even if Second model was able to identify first article properly it failed in second article.\n",
    "3. Still, new model is able to learn more complex representations. Both first and last article has difference more than 0.2 in predicting healthy/wellness articles, while first was definitely is not such an article, last one is about the Wellness Industry and generally is not catering to the target audience of Theragun as it was posted on a Financial Website.\n",
    "\n",
    "Overall, model with more negative example seems to have learned more complex representaations across different words even if we have lower recall for the Positive Examples. We cam improve the model further with more training data, more positive data while keeping current propertion of 2:1 or opting for 3:1, higher propertion for Negative examples and lesser for the positive examples. We can also try more complex models on more powerful computing resources."
   ]
  }
 ],
 "metadata": {
  "accelerator": "GPU",
  "colab": {
   "machine_shape": "hm",
   "provenance": []
  },
  "kernelspec": {
   "display_name": "Python 3 (ipykernel)",
   "language": "python",
   "name": "python3"
  },
  "language_info": {
   "codemirror_mode": {
    "name": "ipython",
    "version": 3
   },
   "file_extension": ".py",
   "mimetype": "text/x-python",
   "name": "python",
   "nbconvert_exporter": "python",
   "pygments_lexer": "ipython3",
   "version": "3.11.4"
  }
 },
 "nbformat": 4,
 "nbformat_minor": 4
}
